{
 "cells": [
  {
   "cell_type": "code",
   "execution_count": 1,
   "metadata": {},
   "outputs": [],
   "source": [
    "import numpy as np\n",
    "import pandas as pd\n",
    "from sklearn.metrics import r2_score\n",
    "import json\n",
    "from matplotlib import pyplot as plt"
   ]
  },
  {
   "cell_type": "code",
   "execution_count": 2,
   "metadata": {},
   "outputs": [],
   "source": [
    "def read_file(filename):\n",
    "    loc= '/home/bansal/Downloads/' + filename + \".txt\"\n",
    "    print (loc)\n",
    "    txtfile= open(loc, 'r')\n",
    "    lines= txtfile.read().split(' ')\n",
    "    array= []\n",
    "    for num in lines:\n",
    "        if(len(num)> 0):\n",
    "            array.append(float(num))\n",
    "    return array\n",
    "        \n",
    "        "
   ]
  },
  {
   "cell_type": "code",
   "execution_count": null,
   "metadata": {},
   "outputs": [],
   "source": [
    "def read_json(filename):\n",
    "    loc= '/home/bansal/Downloads/' + filename + '.json'\n",
    "    print (loc)\n",
    "    scores= []\n",
    "    count= 0\n",
    "    for comment in open(loc, 'r'):\n",
    "        scores.append(abs(int(json.loads(comment)['ups'])))#nice\n",
    "    return scores"
   ]
  },
  {
   "cell_type": "code",
   "execution_count": null,
   "metadata": {},
   "outputs": [],
   "source": [
    "def get_mean(array):\n",
    "    count= 0\n",
    "    for num in array:\n",
    "        if(num!= 0.0):\n",
    "            count+= 1\n",
    "    print (count)\n",
    "    return np.sum(array)/count\n"
   ]
  },
  {
   "cell_type": "code",
   "execution_count": null,
   "metadata": {},
   "outputs": [],
   "source": [
    "def get_median(array):\n",
    "    array2= []\n",
    "    for i in array:\n",
    "        if(i!= 0.0):\n",
    "            array2.append(i)\n",
    "    return np.median(array2)"
   ]
  },
  {
   "cell_type": "code",
   "execution_count": null,
   "metadata": {},
   "outputs": [],
   "source": [
    "def create_discourse(filename):\n",
    "    loc= '/home/bansal/Downloads/' + filename + '.json'\n",
    "    actualdiscourse= []\n",
    "    obsdiscourse= read_file('elaborationdiscourse')\n",
    "    print (len(obsdiscourse))\n",
    "    count= 0\n",
    "    df= pd.read_csv('/home/bansal/Downloads/subreddits_basic.csv')\n",
    "    for post in open(loc, 'r'):\n",
    "        text= json.loads(post)\n",
    "        subreddit= text['subreddit']\n",
    "        subs= df.loc[df['reddit']== subreddit, 'subs'].values\n",
    "        for subpost in text['posts']:\n",
    "            if('majority_type' in subpost and subpost['majority_type']== 'elaboration'):\n",
    "                if(len(subs)> 0 and subs[0]!= 'None' and int(subs[0])!= 0):\n",
    "                    actualdiscourse.append(1)\n",
    "                else:\n",
    "                    actualdiscourse.append(0)\n",
    "    print (len(actualdiscourse))\n",
    "    return actualdiscourse\n",
    "    "
   ]
  },
  {
   "cell_type": "code",
   "execution_count": null,
   "metadata": {},
   "outputs": [],
   "source": [
    "def get_correlation(virality, formality):\n",
    "    return np.corrcoef(virality, formality)\n",
    "    "
   ]
  },
  {
   "cell_type": "code",
   "execution_count": 3,
   "metadata": {},
   "outputs": [
    {
     "name": "stdout",
     "output_type": "stream",
     "text": [
      "/home/bansal/Downloads/elaborationdiscoursevirality3.txt\n",
      "/home/bansal/Downloads/elaborationdiscourse3.txt\n",
      "14354\n",
      "14354\n",
      "For elaboration: -0.8692863579239916\n",
      "/home/bansal/Downloads/agreementdiscoursevirality3.txt\n",
      "/home/bansal/Downloads/agreementdiscourse3.txt\n",
      "3571\n",
      "3571\n",
      "For agreement: -1.2849937034514936\n",
      "/home/bansal/Downloads/disagreementdiscoursevirality3.txt\n",
      "/home/bansal/Downloads/disagreementdiscourse3.txt\n",
      "2439\n",
      "2439\n",
      "For disagreement: -0.6772467158417337\n",
      "/home/bansal/Downloads/appreciationdiscoursevirality3.txt\n",
      "/home/bansal/Downloads/appreciationdiscourse3.txt\n",
      "6459\n",
      "6459\n",
      "For appreciation: -1.5248715188159898\n"
     ]
    },
    {
     "data": {
      "image/png": "[encoded data removed]",
      "text/plain": [
       "<Figure size 432x288 with 4 Axes>"
      ]
     },
     "metadata": {
      "needs_background": "light"
     },
     "output_type": "display_data"
    }
   ],
   "source": [
    "vir= read_file('elaborationdiscoursevirality3')\n",
    "scores= read_file('elaborationdiscourse3')\n",
    "print (len(vir))\n",
    "print (len(scores))\n",
    "print (\"For elaboration: \" + str(r2_score(scores, vir)))\n",
    "fig, axs = plt.subplots(2, 2)\n",
    "axs[0,0].scatter(scores, vir, c= 'blue', alpha= 0.3)\n",
    "axs[0,0].set_title('Elaboration Scatter Plot')\n",
    "vir= read_file('agreementdiscoursevirality3')\n",
    "scores= read_file(\"agreementdiscourse3\")\n",
    "print (len(vir))\n",
    "print (len(scores))\n",
    "print (\"For agreement: \" + str(r2_score(scores, vir)))\n",
    "axs[0,1].scatter(scores, vir, c= 'yellow', alpha= 0.3)\n",
    "axs[0,1].set_title('Agreement Scatter Plot')\n",
    "vir= read_file('disagreementdiscoursevirality3')\n",
    "scores= read_file('disagreementdiscourse3')\n",
    "print (len(vir))\n",
    "print (len(scores))\n",
    "print (\"For disagreement: \" + str(r2_score(scores, vir)))\n",
    "axs[1,0].scatter(scores, vir, c= 'red', alpha= 0.3)\n",
    "axs[1,0].set_title('Disagreement Scatter Plot')\n",
    "vir= read_file('appreciationdiscoursevirality3')\n",
    "scores= read_file('appreciationdiscourse3')\n",
    "print (len(vir))\n",
    "print (len(scores))\n",
    "print (\"For appreciation: \" + str(r2_score(scores, vir)))\n",
    "axs[1,1].scatter(scores, vir, c= 'green', alpha= 0.3)\n",
    "axs[1,1].set_title('Appreciation Scatter Plot')\n",
    "\n",
    "\n",
    "for ax in axs.flat:\n",
    "    ax.set(xlabel='Formality Scores', ylabel='Virality Scores')\n",
    "\n",
    "# Hide x labels and tick labels for top plots and y ticks for right plots.\n",
    "for ax in axs.flat:\n",
    "    ax.label_outer()\n",
    "\n",
    "plt.savefig('./third.png')"
   ]
  },
  {
   "cell_type": "code",
   "execution_count": null,
   "metadata": {},
   "outputs": [],
   "source": []
  }
 ],
 "metadata": {
  "kernelspec": {
   "display_name": "Python 3",
   "language": "python",
   "name": "python3"
  },
  "language_info": {
   "codemirror_mode": {
    "name": "ipython",
    "version": 3
   },
   "file_extension": ".py",
   "mimetype": "text/x-python",
   "name": "python",
   "nbconvert_exporter": "python",
   "pygments_lexer": "ipython3",
   "version": "3.5.2"
  }
 },
 "nbformat": 4,
 "nbformat_minor": 2
}
