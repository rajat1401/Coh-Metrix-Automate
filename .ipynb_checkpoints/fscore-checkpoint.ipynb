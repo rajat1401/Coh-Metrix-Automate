{
 "cells": [
  {
   "cell_type": "code",
   "execution_count": 11,
   "metadata": {},
   "outputs": [],
   "source": [
    "import numpy as np\n",
    "import pandas as pd\n",
    "from matplotlib import pyplot as plt\n",
    "import json\n",
    "import nltk"
   ]
  },
  {
   "cell_type": "code",
   "execution_count": 32,
   "metadata": {},
   "outputs": [],
   "source": [
    "def is_noun(postag):\n",
    "    if(postag== \"NN\" or postag== \"NNS\" or postag== \"NNP\" or postag== \"NNPS\"):\n",
    "        return True\n",
    "    return False"
   ]
  },
  {
   "cell_type": "code",
   "execution_count": 33,
   "metadata": {},
   "outputs": [],
   "source": [
    "def is_adjective(postag):\n",
    "    if(postag== \"JJ\" or postag== \"JJS\" or postag== \"JJR\"):\n",
    "        return True\n",
    "    return False"
   ]
  },
  {
   "cell_type": "code",
   "execution_count": 34,
   "metadata": {},
   "outputs": [],
   "source": [
    "def is_preposition(postag):\n",
    "    if(postag== \"IN\"):\n",
    "        return True\n",
    "    return False"
   ]
  },
  {
   "cell_type": "code",
   "execution_count": 35,
   "metadata": {},
   "outputs": [],
   "source": [
    "def is_article(postag):\n",
    "    if(postag== \"DET\"):\n",
    "        return True\n",
    "    return False"
   ]
  },
  {
   "cell_type": "code",
   "execution_count": 36,
   "metadata": {},
   "outputs": [],
   "source": [
    "def is_pronoun(postag):\n",
    "    if(postag== \"PRP\" or postag== \"PRP$\" or postag== \"WP\" or postag== \"WP$\"):\n",
    "        return True\n",
    "    return False"
   ]
  },
  {
   "cell_type": "code",
   "execution_count": 43,
   "metadata": {},
   "outputs": [],
   "source": [
    "def is_verb(postag):\n",
    "    if(postag== \"VB\" or postag== \"VBD\" or postag== \"VBG\" or postag== \"VBN\" or postag== \"VBP\" or postag== \"VBZ\"):\n",
    "        return True\n",
    "    return False"
   ]
  },
  {
   "cell_type": "code",
   "execution_count": 38,
   "metadata": {},
   "outputs": [],
   "source": [
    "def is_adverb(postag):\n",
    "    if(postag== \"RB\" or postag== \"RBS\" or postag== \"RBR\" or postag== \"WRB\"):\n",
    "        return True\n",
    "    return False"
   ]
  },
  {
   "cell_type": "code",
   "execution_count": 39,
   "metadata": {},
   "outputs": [],
   "source": [
    "def is_interjection(postag):\n",
    "    if(postag== \"UH\"):\n",
    "        return True\n",
    "    return False"
   ]
  },
  {
   "cell_type": "code",
   "execution_count": 44,
   "metadata": {},
   "outputs": [],
   "source": [
    "def get_score(text):\n",
    "    sents= nltk.sent_tokenize(text)\n",
    "    total= 0\n",
    "    dictt= {}\n",
    "    dictt['nouns']= 0\n",
    "    dictt['adjectives']= 0\n",
    "    dictt['prepositions']= 0\n",
    "    dictt['articles']= 0\n",
    "    dictt['pronouns']= 0\n",
    "    dictt['verbs']= 0\n",
    "    dictt['adverbs']= 0\n",
    "    dictt['interjections']= 0\n",
    "    for sent in sents:\n",
    "        wordlist= nltk.word_tokenize(sent)\n",
    "        total+= len(wordlist)\n",
    "        tagged= nltk.pos_tag(wordlist)\n",
    "        dictt['nouns']+= len([word for (word, pos) in tagged if(is_noun(pos))])\n",
    "        dictt['adjectives']+= len([word for (word, pos) in tagged if(is_adjective(pos))])\n",
    "        dictt['prepositions']+= len([word for (word, pos) in tagged if(is_preposition(pos))])\n",
    "        dictt['articles']+= len([word for (word, pos) in tagged if(is_article(pos))])\n",
    "        dictt['pronouns']+= len([word for (word, pos) in tagged if(is_pronoun(pos))])\n",
    "        dictt['verbs']+= len([word for (word, pos) in tagged if(is_verb(pos))])\n",
    "        dictt['adverbs']+= len([word for (word, pos) in tagged if(is_adverb(pos))])\n",
    "        dictt['interjections']+= len([word for (word, pos) in tagged if(is_interjection(pos))])\n",
    "    \n",
    "    for key in dictt:\n",
    "        dictt[key]= (dictt[key]/total)*100\n",
    "    print (dictt)\n",
    "    return fscore(dictt)\n"
   ]
  },
  {
   "cell_type": "code",
   "execution_count": 45,
   "metadata": {},
   "outputs": [],
   "source": [
    "def fscore(dictt):\n",
    "    return (dictt['nouns'] + dictt['adjectives'] + dictt['prepositions'] + dictt['articles'] - dictt['pronouns'] \n",
    "            - dictt['verbs'] - dictt['adverbs'] - dictt['interjections'] + 100)/2"
   ]
  },
  {
   "cell_type": "code",
   "execution_count": null,
   "metadata": {},
   "outputs": [],
   "source": [
    "def read_json(filename):\n",
    "    loc= '/home/bansal/Downloads/' + filename + \".json\"\n",
    "    print (loc)\n",
    "    scores= []\n",
    "    count= 1\n",
    "    for comment in open(loc, 'r'):\n",
    "        text= json.loads(comment)['body']\n",
    "        scores.append(get_score(text))\n",
    "        print (count)\n",
    "        count+= 1\n",
    "    scores= np.array(scores)\n",
    "    print (\"Number of comments analyzed:\" + str(len(scores)))\n",
    "    print (\"Mean F-Score of comments analyzed:\" + str(np.mean(scores)))\n",
    "    print (\"Median F-Score of comments analyzed:\" + str(np.median(scores)))\n",
    "    outname= \"/home/bansal/Documents/SML/SML/BTP/\" + filename + \"f\" + '.txt'\n",
    "    np.savetxt(outname, scores, newline=\" \")\n",
    "    print (\"DONE!!!\")\n",
    "        \n",
    "    "
   ]
  },
  {
   "cell_type": "code",
   "execution_count": 47,
   "metadata": {},
   "outputs": [
    {
     "name": "stdout",
     "output_type": "stream",
     "text": [
      "{'verbs': 25.0, 'prepositions': 0.0, 'articles': 0.0, 'pronouns': 12.5, 'interjections': 0.0, 'adjectives': 12.5, 'nouns': 12.5, 'adverbs': 0.0}\n",
      "43.75\n"
     ]
    }
   ],
   "source": [
    "print (get_score(\"I love shooting up the beautiful school.\"))"
   ]
  },
  {
   "cell_type": "code",
   "execution_count": null,
   "metadata": {},
   "outputs": [],
   "source": []
  }
 ],
 "metadata": {
  "kernelspec": {
   "display_name": "Python 3",
   "language": "python",
   "name": "python3"
  },
  "language_info": {
   "codemirror_mode": {
    "name": "ipython",
    "version": 3
   },
   "file_extension": ".py",
   "mimetype": "text/x-python",
   "name": "python",
   "nbconvert_exporter": "python",
   "pygments_lexer": "ipython3",
   "version": "3.5.2"
  }
 },
 "nbformat": 4,
 "nbformat_minor": 2
}
